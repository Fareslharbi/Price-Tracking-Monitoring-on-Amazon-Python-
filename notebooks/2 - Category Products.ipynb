{
 "cells": [
  {
   "cell_type": "code",
   "execution_count": 58,
   "id": "a343ddf7",
   "metadata": {},
   "outputs": [],
   "source": [
    "import requests\n",
    "from requests_html import HTML\n",
    "from selenium import webdriver\n",
    "from selenium.webdriver.chrome.options import Options\n",
    "from selenium.webdriver.common.by import By\n",
    "import time"
   ]
  },
  {
   "cell_type": "code",
   "execution_count": 59,
   "id": "88719e6b",
   "metadata": {},
   "outputs": [],
   "source": [
    "options = Options()\n",
    "options.add_argument(\"--headless\")\n",
    "\n",
    "driver = webdriver.Chrome(options=options)"
   ]
  },
  {
   "cell_type": "code",
   "execution_count": 60,
   "id": "914d2551",
   "metadata": {},
   "outputs": [],
   "source": [
    "categories = ['https://www.amazon.sa/-/en/gp/bestsellers/sports-goods/17007473031/', \n",
    "             'https://www.amazon.sa/-/en/gp/bestsellers/electronics/',\n",
    "             'https://www.amazon.sa/-/en/gp/bestsellers/pet-supplies/'\n",
    "             ]"
   ]
  },
  {
   "cell_type": "code",
   "execution_count": 61,
   "id": "0d51aeb6",
   "metadata": {},
   "outputs": [],
   "source": [
    "# categories"
   ]
  },
  {
   "cell_type": "code",
   "execution_count": 62,
   "id": "d5923f68",
   "metadata": {},
   "outputs": [],
   "source": [
    "first_url = categories[0]"
   ]
  },
  {
   "cell_type": "code",
   "execution_count": 63,
   "id": "9c31fa62",
   "metadata": {},
   "outputs": [],
   "source": [
    "driver.get(first_url)\n",
    "body_el = driver.find_element(By.CSS_SELECTOR, 'body')\n",
    "html_str = body_el.get_attribute(\"innerHTML\")\n",
    "html_obj = HTML(html=html_str)"
   ]
  },
  {
   "cell_type": "code",
   "execution_count": 64,
   "id": "e20a828e",
   "metadata": {},
   "outputs": [],
   "source": [
    "new_links = [x for x in html_obj.links if x.startswith(\"/\")]\n",
    "new_links = [x for x in new_links if \"product-reviews/\" not in x]"
   ]
  },
  {
   "cell_type": "code",
   "execution_count": 65,
   "id": "a71b4029",
   "metadata": {},
   "outputs": [],
   "source": [
    "page_links = [f\"https://www.amazon.sa{x}\" for x in new_links]"
   ]
  },
  {
   "cell_type": "code",
   "execution_count": 66,
   "id": "70254416",
   "metadata": {},
   "outputs": [],
   "source": [
    "# page_links"
   ]
  },
  {
   "cell_type": "code",
   "execution_count": 67,
   "id": "c0307bc1",
   "metadata": {},
   "outputs": [],
   "source": [
    "def scrape_product_page(url, title_lookup='#productTitle', \n",
    "price_lookup='.a-offscreen'):\n",
    "    driver.get(url)\n",
    "    time.sleep(2)\n",
    "    body_el = driver.find_element(By.CSS_SELECTOR, 'body')\n",
    "    html_str = body_el.get_attribute(\"innerHTML\")\n",
    "    html_obj = HTML(html=html_str)\n",
    "    product_title = html_obj.find(title_lookup, first=True).text\n",
    "    product_price = html_obj.find(price_lookup, first=True).text\n",
    "    return product_title, product_price"
   ]
  },
  {
   "cell_type": "code",
   "execution_count": 68,
   "id": "90a693ff",
   "metadata": {},
   "outputs": [],
   "source": [
    "first_product_link = page_links[0]\n",
    "#first_product_link"
   ]
  },
  {
   "cell_type": "code",
   "execution_count": 69,
   "id": "c4da21df",
   "metadata": {},
   "outputs": [
    {
     "name": "stdout",
     "output_type": "stream",
     "text": [
      "https://www.amazon.sa/-/en/Collapsible-Folding-Landing-Net-Telescopic/dp/B0B7R6FZYL/ref=zg_bs_17007473031_sccl_14/261-3113602-0876929?psc=1 Collapsible Folding Landing Net - Eacam 79 Inch Unfolded Length, Fishing Dip Nets with Telescopic Pole Handle, Durable Rubber Coating Knotless Mesh, Safe Fish Catching SAR56.99\n",
      "https://www.amazon.sa/-/en/Flying-Colors-Premium-000ct-Bottle/dp/B000RF8L3Q/ref=zg_bs_17007473031_sccl_23/261-3113602-0876929?psc=1 Soft Air 6mm Flying Colors Premium Grade .12g BB (2,000ct. Bottle, Orange) SAR41.00\n",
      "https://www.amazon.sa/-/en/Portable-Stretcher-Emergency-Foldable-Transfer/dp/B08G11T2CK/ref=zg_bs_17007473031_sccl_8/261-3113602-0876929?psc=1 Portable Stretcher First Aid Medical Patient Emergency Sports Rescue, Foldable Stretcher Emergency Rescue Litter Patient Transfer System Lift Assist Tool SAR189.00\n",
      "https://www.amazon.sa/-/en/Labymos-Equipped-Resistant-Air-conditioning-Electric/dp/B0BLHCBTY2/ref=zg_bs_17007473031_sccl_7/261-3113602-0876929?psc=1 Labymos Fan Equipped Clothes UV Resistant Cooling Jacket Summer Air-conditioning Vest with fan Electric Fan Cooling Vest Outdoor Fishing Clothes for Working Running Cycling SAR108.42\n",
      "https://www.amazon.sa/-/en/Archery-Density-Accuracy-Training-Accessories/dp/B09DBTCSLT/ref=zg_bs_17007473031_sccl_28/261-3113602-0876929?psc=1 Archery Target Archery Target Board Foam High Density Arrows Shot Target for Arrow Bow Dart Outdoor Indoor Accuracy Training Accessories SAR258.24\n",
      "https://www.amazon.sa/-/en/Yo-Zuri-Inshore-Popper-Silver-Floating/dp/B01M2V5SXB/ref=zg_bs_17007473031_sccl_19/261-3113602-0876929?psc=1 Yo-Zuri Yo Zuri 3 D Inshore Popper ' F 70 Mm 2 4 Floating Lure SAR48.42\n",
      "https://www.amazon.sa/-/en/Glasses-Tactical-Military-Shooting-Protective/dp/B07M83Y496/ref=zg_bs_17007473031_sccl_6/261-3113602-0876929?psc=1 Desert Storm Sun Glasses Tactical Military Shooting Riding Cycling Goggles UV400 Eye Protective SAR32.77\n",
      "https://www.amazon.sa/-/en/Lixada-Fishing-Telescopic-Travel-Accessories/dp/B07V2KS8D6/ref=zg_bs_17007473031_sccl_11/261-3113602-0876929?psc=1 Lixada Fishing Rod Reel Combo Telescopic Fishing Rod Spinning Reel Jigs Swivels Saltwater Freshwater Travel Fishing Accessories Kit SAR140.89\n",
      "https://www.amazon.sa/-/en/Shimano-Spheros-Saltwater-Fishingreel-Sp10000Sw/dp/B00INCU8RC/ref=zg_bs_17007473031_sccl_30/261-3113602-0876929?psc=1 Shimano Spheros 10000 Sw Heavy Duty Saltwater Fishingreel, Sp10000Sw Page 1 of 1\n",
      "https://www.amazon.sa/-/en/Procean-Sensitive-Performance-Cost-Effective-0-63mm-328Yds/dp/B08GPFXT19/ref=zg_bs_17007473031_sccl_24/261-3113602-0876929?psc=1 Procean 100% PE 4 & 8 Strands Braided Fishing Line, 6-300 LB Sensitive Braided Lines, Super Performance and Cost-Effective SAR72.96\n",
      "https://www.amazon.sa/-/en/BOKER-PLUS-Multi-Purpose-Black/dp/B00DXFABX0/ref=zg_bs_17007473031_sccl_12/261-3113602-0876929?psc=1 BOKER PLUS MPP Multi Purpose Pen SAR117.24\n",
      "https://www.amazon.sa/-/en/MUSTAD-fishing-circle-carbon-Jigging/dp/B075N5TNB6/ref=zg_bs_17007473031_sccl_5/261-3113602-0876929?psc=1 MUSTAD 39951 fishing hooks demon circle high carbon steel Jigging Hook SAR23.99\n",
      "https://www.amazon.sa/-/en/BAIKALBASS-Braided-Fishing-Multifilament-Saltwater/dp/B076CPKHBM/ref=zg_bs_17007473031_sccl_3/261-3113602-0876929?psc=1 BAIKALBASS Braided Fishing Line 4 Strands Stronger Multifilament PE Braid Wire for Saltwater 6LB-100LB 110yards 328yards 547yards Super Strong Superline SAR57.67\n",
      "https://www.amazon.sa/-/en/Propper-F545455-Mens-Woodland-Large-Short/dp/B000IT4XOM/ref=zg_bs_17007473031_sccl_20/261-3113602-0876929?psc=1 Propper mens Bdu Coat SAR131.16\n",
      "https://www.amazon.sa/-/en/GEVICONT-Performance-Salt-Water-Resistant-Superline/dp/B07GW3LX9Z/ref=zg_bs_17007473031_sccl_4/261-3113602-0876929?psc=1 GEVICONT Superpower Braided Fishing Line - Abrasion Resistant Braided Lines – Incredible Superline – Zero Stretch – Smaller Diameter – A Must-Have! SAR48.54\n",
      "https://www.amazon.sa/-/en/Rovyfota-Upgraded-Beginner-Practice-Accessories/dp/B0B2JB2FTR/ref=zg_bs_17007473031_sccl_1/261-3113602-0876929?psc=1 Rovyfota Kids Bow and Arrow Set, Upgraded Youth Bow and Arrow, Kids and Beginner Bow Practice Bow, With 6 Arrows and Accessories For Outdoor Practice Bow and Arrow Set, Sports/Game/Hunting Gifts SAR199.00\n",
      "https://www.amazon.sa/-/en/1000m-strong-multifilament-braided-fishing/dp/B07MJXQTWB/ref=zg_bs_17007473031_sccl_2/261-3113602-0876929?psc=1 1000m brand super strong japan multifilament PE braided fishing line SAR120.00\n",
      "https://www.amazon.sa/-/en/Fishing-Spinning-Powerful-Saltwater-Freshwater/dp/B077GMG73W/ref=zg_bs_17007473031_sccl_15/261-3113602-0876929?psc=1 Burning Shark Fishing Reels- 12+1 BB, Light and Smooth Spinning Reels, Powerful Carbon Fiber Drag, Saltwater and Freshwater Fishing SAR168.74\n",
      "https://www.amazon.sa/10-Holes-Fishing-Trap-Automatic/dp/B09V2T67TN/ref=zg_bs_17007473031_sccl_10/261-3113602-0876929?psc=1 10 Holes Fishing Trap - Eacam Portable 4/6/10 Holes Automatic Fishing Trap Net Shrimp Crab Mesh Trap Cage SAR37.99\n",
      "https://www.amazon.sa/-/en/LixadaTelescopic-Fishing-Rod-Accessories-Kit/dp/B07V37RRJF/ref=zg_bs_17007473031_sccl_26/261-3113602-0876929?psc=1 Lixada Fishing Rod Reel Telescopic Fishing Rod Fishing Line Lures Hooks Jigs Travel Fishing accessories Kit SAR140.99\n",
      "https://www.amazon.sa/-/en/Submerged-pencil-Bionic-fishing-SY-0156/dp/B07MX9TXRR/ref=zg_bs_17007473031_sccl_27/261-3113602-0876929?psc=1 11cm 13.5g 10pcs Submerged pencil shot Bionic bait fishing bait SY-0156 SAR36.95\n",
      "https://www.amazon.sa/-/en/Generic-All-Gun-Cleaning-Bag/dp/B0BGYZHVHT/ref=zg_bs_17007473031_sccl_22/261-3113602-0876929?psc=1 All Gun Cleaning Bag SAR254.00\n",
      "https://www.amazon.sa/Shimano-Spheros-Saltwater-Fishingreel-Sp10000Sw/dp/B00INCU8RC/ref=zg_bs_17007473031_sccl_30/261-3113602-0876929?psc=1 Shimano Spheros 10000 Sw Heavy Duty Saltwater Fishingreel, Sp10000Sw Page 1 of 1\n",
      "https://www.amazon.sa/-/en/Compartments-Waterproof-Fishing-Storage-Utility/dp/B08R3XQG48/ref=zg_bs_17007473031_sccl_25/261-3113602-0876929?psc=1 13 Compartments Waterproof Fishing Tackle Box Fishing Lure Spoon Hook Bait Storage Case Utility Box SAR49.88\n",
      "https://www.amazon.sa/-/en/10-Holes-Fishing-Trap-Automatic/dp/B09V2T67TN/ref=zg_bs_17007473031_sccl_10/261-3113602-0876929?psc=1 10 Holes Fishing Trap - Eacam Portable 4/6/10 Holes Automatic Fishing Trap Net Shrimp Crab Mesh Trap Cage SAR37.99\n",
      "https://www.amazon.sa/-/en/FASPLORE-Bearing-Swivel-20pcs-7-209LBS/dp/B09N233N68/ref=zg_bs_17007473031_sccl_17/261-3113602-0876929?psc=1 FASPLORE 10-25 Pcs Fishing Ball Bearing Swivels Stainless Steel Copper High Strength Speed Rotation Fishing Tackle Connectors Full Size Saltwater Freshwater SAR39.44\n",
      "https://www.amazon.sa/-/en/Oversize-Slouch-Beanie-Skullcap-Checked-claret/dp/B074S22VYX/ref=zg_bs_17007473031_sccl_13/261-3113602-0876929?psc=1 Men Oversize Skull Slouch Beanie Large Skullcap Knit Hat SAR75.27\n",
      "https://www.amazon.sa/-/en/Yo-Zuri-Carbon-Fluorocarbon-60-Pound-30-Yard/dp/B004TLXTXQ/ref=zg_bs_17007473031_sccl_16/261-3113602-0876929?psc=1 Yo-Zuri H.D. Carbon Fluorocarbon Leader Line SAR92.03\n",
      "https://www.amazon.sa/-/en/Silicone-Artificial-Swimbaits-Freshwater-Saltwater/dp/B09CGH5P5V/ref=zg_bs_17007473031_sccl_18/261-3113602-0876929?psc=1 Fishing Lures for Bass, Shad Soft Swimbaits, Pre-Rigged with Vmc Sinking Hook, Plastic Bait for Saltwater & Freshwater, Trout Pike Walleye Fishing Jigs Kit SAR56.72\n",
      "https://www.amazon.sa/-/en/PENN-Rival-Longcast-Fishing-Reel/dp/B08M3DXJY2/ref=zg_bs_17007473031_sccl_9/261-3113602-0876929?psc=1 PENN Rival Longcast Fishing Reel - Lightweight Long Distance Casting Reel for Sea, Saltwater, Surf, Rock and Beach Fishing SAR452.69\n",
      "https://www.amazon.sa/-/en/Croogo-Classic-Baseball-Sunscreen-Trucker/dp/B07RN87T3L/ref=zg_bs_17007473031_sccl_29/261-3113602-0876929?psc=1 Croogo Short Bill Brim Dad Cap Unisex Classic Baseball Hat Anti Sweat Sunscreen Trucker Cap Hat SAR109.00\n",
      "https://www.amazon.sa/-/en/M-Tac-Fleece-Watch-Cap-Military/dp/B076NZWWYZ/ref=zg_bs_17007473031_sccl_21/261-3113602-0876929?psc=1 M-Tac Watch Cap Fleece 260 Mens Winter Hat Military Tactical Skull Cap Beanie SAR68.04\n",
      "https://www.amazon.sa/Propper-F545455-Mens-Woodland-Large-Short/dp/B000IT4XOM/ref=zg_bs_17007473031_sccl_20/261-3113602-0876929?psc=1 Propper mens Bdu Coat SAR131.16\n"
     ]
    }
   ],
   "source": [
    "for link in page_links:\n",
    "    title, price = (None, None)\n",
    "    try:\n",
    "        title, price = scrape_product_page(link)\n",
    "    except:\n",
    "        pass\n",
    "    if title != None and price != None:\n",
    "        print(link, title, price)"
   ]
  },
  {
   "cell_type": "code",
   "execution_count": 70,
   "id": "f82966cf",
   "metadata": {},
   "outputs": [],
   "source": [
    "# https://www.amazon.sa/-/en/GEVICONT-Performance-Salt-Water-Resistant-Superline/dp/B07GW3LX9Z/\n",
    "# https://www.amazon.sa/-/en/Rovyfota-Upgraded-Beginner-Practice-Accessories/dp/B0B2JB2FTR/\n",
    "\n",
    "# Below is how most urls are designed\n",
    "# <base-url>/<slug>/<product-id>/"
   ]
  },
  {
   "cell_type": "code",
   "execution_count": null,
   "id": "2bfcc72a",
   "metadata": {},
   "outputs": [],
   "source": []
  }
 ],
 "metadata": {
  "kernelspec": {
   "display_name": "Python 3 (ipykernel)",
   "language": "python",
   "name": "python3"
  },
  "language_info": {
   "codemirror_mode": {
    "name": "ipython",
    "version": 3
   },
   "file_extension": ".py",
   "mimetype": "text/x-python",
   "name": "python",
   "nbconvert_exporter": "python",
   "pygments_lexer": "ipython3",
   "version": "3.10.8"
  }
 },
 "nbformat": 4,
 "nbformat_minor": 5
}
