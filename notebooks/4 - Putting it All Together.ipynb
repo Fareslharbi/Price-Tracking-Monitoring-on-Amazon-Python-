{
 "cells": [
  {
   "cell_type": "code",
   "execution_count": 1,
   "id": "a343ddf7",
   "metadata": {},
   "outputs": [],
   "source": [
    "import requests\n",
    "from requests_html import HTML\n",
    "from selenium import webdriver\n",
    "from selenium.webdriver.chrome.options import Options\n",
    "from selenium.webdriver.common.by import By\n",
    "import re\n",
    "import time\n",
    "from pathlib import Path\n",
    "import pandas as pd\n",
    "import datetime"
   ]
  },
  {
   "cell_type": "code",
   "execution_count": 2,
   "id": "c735b85b",
   "metadata": {},
   "outputs": [],
   "source": [
    "BASE_DIR = Path.cwd()\n",
    "DATA_DIR = BASE_DIR / 'data' # Same as -> os.path.join(BASE_DIR, 'data)\n",
    "if not DATA_DIR.exists(): # Same as -> os.path.exists(DATA_DIR)\n",
    "    DATA_DIR.mkdir(exist_ok=True) # Same as -> os.makedirs(DATA_DIR, exist_ok=True)\n",
    "\n",
    "product_category_links_output = DATA_DIR / 'category-products.csv'\n",
    "product_output = DATA_DIR / 'products.csv'"
   ]
  },
  {
   "cell_type": "code",
   "execution_count": 3,
   "id": "88719e6b",
   "metadata": {},
   "outputs": [],
   "source": [
    "options = Options()\n",
    "options.add_argument(\"--headless\")\n",
    "\n",
    "driver = webdriver.Chrome(options=options)"
   ]
  },
  {
   "cell_type": "code",
   "execution_count": 4,
   "id": "914d2551",
   "metadata": {},
   "outputs": [],
   "source": [
    "categories = [\n",
    "    {'name': 'sports-goods', 'url': 'https://www.amazon.sa/-/en/gp/bestsellers/sports-goods/17007473031/'},\n",
    "    {'name': 'electronics', 'url': 'https://www.amazon.sa/-/en/gp/bestsellers/electronics/'},\n",
    "    {'name': 'pet-supplies', 'url': 'https://www.amazon.sa/-/en/gp/bestsellers/pet-supplies/'}\n",
    "]"
   ]
  },
  {
   "cell_type": "code",
   "execution_count": null,
   "id": "b283b63f",
   "metadata": {},
   "outputs": [],
   "source": []
  },
  {
   "cell_type": "code",
   "execution_count": 5,
   "id": "427c3749",
   "metadata": {},
   "outputs": [],
   "source": [
    "regex_options = [\n",
    "    r'https://www.amazon.sa/-/en/gp/product/(?P<product_id>[\\w-]+)/',\n",
    "    r'https://www.amazon.sa/-/en/dp/(?P<product_id>[\\w-]+)/',\n",
    "    r'https://www.amazon.sa/-/en/(?P<slug>[\\w-]+)/dp/(?P<product_id>[\\w-]+)/',\n",
    "]\n",
    "\n",
    "def extract_product_id_from_url(url):\n",
    "    product_id = None\n",
    "    for regex_str in regex_options:\n",
    "        regex = re.compile(regex_str)\n",
    "        match = regex.match(url)\n",
    "        if match != None:\n",
    "            try:\n",
    "                product_id = match['product_id']\n",
    "            except:\n",
    "                pass\n",
    "    return product_id"
   ]
  },
  {
   "cell_type": "code",
   "execution_count": 6,
   "id": "760b3c7e",
   "metadata": {},
   "outputs": [],
   "source": [
    "def clean_page_links(page_links=[], category=None):\n",
    "    final_page_links = []\n",
    "    for url in page_links:\n",
    "        product_id = extract_product_id_from_url(url)\n",
    "        if product_id !=None:\n",
    "            final_page_links.append({\"url\": url, \"product_id\":product_id, \"category\": category})\n",
    "    return final_page_links"
   ]
  },
  {
   "cell_type": "code",
   "execution_count": 7,
   "id": "0d51aeb6",
   "metadata": {},
   "outputs": [],
   "source": [
    "def scrape_category_product_links(categories=[]):\n",
    "    all_product_links = []\n",
    "    for category in categories:\n",
    "        time.sleep(1.5)\n",
    "        url = category.get('url')\n",
    "        driver.get(url)\n",
    "        body_el = driver.find_element(By.CSS_SELECTOR, 'body')\n",
    "        html_str = body_el.get_attribute(\"innerHTML\")\n",
    "        html_obj = HTML(html=html_str)\n",
    "        page_links = [f\"https://www.amazon.sa{x}\" for x in html_obj.links if x.startswith(\"/\")]\n",
    "        cleaned_links = clean_page_links(page_links=page_links, category=category)\n",
    "        all_product_links += cleaned_links\n",
    "    return all_product_links"
   ]
  },
  {
   "cell_type": "code",
   "execution_count": 8,
   "id": "36862563",
   "metadata": {},
   "outputs": [],
   "source": [
    "def extract_categories_and_save(categories=categories):\n",
    "    all_product_items = scrape_category_product_links(categories)\n",
    "    category_df = pd.DataFrame(all_product_items)\n",
    "    # category_df.head()\n",
    "    category_df.to_csv(product_category_links_output, index=False)"
   ]
  },
  {
   "cell_type": "code",
   "execution_count": 9,
   "id": "10001842",
   "metadata": {},
   "outputs": [],
   "source": [
    "extract_categories_and_save(categories=categories)"
   ]
  },
  {
   "cell_type": "code",
   "execution_count": 10,
   "id": "c0307bc1",
   "metadata": {},
   "outputs": [],
   "source": [
    "def scrape_product_page(url, title_lookup='#productTitle', \n",
    "price_lookup='.a-offscreen'):\n",
    "    driver.get(url)\n",
    "    time.sleep(1.5)\n",
    "    body_el = driver.find_element(By.CSS_SELECTOR, 'body')\n",
    "    html_str = body_el.get_attribute(\"innerHTML\")\n",
    "    html_obj = HTML(html=html_str)\n",
    "    product_title = html_obj.find(title_lookup, first=True).text\n",
    "    product_price = html_obj.find(price_lookup, first=True).text\n",
    "    return product_title, product_price"
   ]
  },
  {
   "cell_type": "code",
   "execution_count": 11,
   "id": "55e5bd22",
   "metadata": {},
   "outputs": [],
   "source": [
    "def perform_scrape(cleaned_items=[]): \n",
    "    data_extracted = []\n",
    "    for obj in cleaned_items:\n",
    "        link = obj['url']\n",
    "        product_id = obj['product_id']\n",
    "        title, price = (None, None)\n",
    "        try:\n",
    "            title, price = scrape_product_page(link)\n",
    "        except:\n",
    "            pass\n",
    "        if title != None and price !=None:\n",
    "            print(link, title, price)\n",
    "        product_data = {\n",
    "            \"url\": link,\n",
    "            \"title\": title,\n",
    "            \"price\": price\n",
    "        }\n",
    "        data_extracted.append(product_data)\n",
    "    return data_extracted"
   ]
  },
  {
   "cell_type": "code",
   "execution_count": 12,
   "id": "1577e088",
   "metadata": {},
   "outputs": [],
   "source": [
    "# extracted_data = perform_scrape(cleaned_items=cleaned_links)\n",
    "# print(extracted_data)"
   ]
  },
  {
   "cell_type": "code",
   "execution_count": 13,
   "id": "c25abb7f",
   "metadata": {},
   "outputs": [],
   "source": [
    "def row_scrape_event(row, *args, **kwargs): \n",
    "    link = row['url']\n",
    "    scraped = 0\n",
    "    try:\n",
    "        scraped = row['scraped']\n",
    "    except:\n",
    "        pass\n",
    "    # print(link)\n",
    "    if scraped == 1 or scraped == '1':\n",
    "        return row\n",
    "    product_id = row['product_id']\n",
    "    title, price = (None, None)\n",
    "    try:\n",
    "        title, price = scrape_product_page(link)\n",
    "    except:\n",
    "        pass\n",
    "    row['title'] = title\n",
    "    row['price'] = price\n",
    "    row['scraped'] = 1\n",
    "    row['timestamp'] = datetime.datetime.now().timestamp()\n",
    "    return row"
   ]
  },
  {
   "cell_type": "code",
   "execution_count": 14,
   "id": "e7214408",
   "metadata": {},
   "outputs": [
    {
     "data": {
      "text/html": [
       "<div>\n",
       "<style scoped>\n",
       "    .dataframe tbody tr th:only-of-type {\n",
       "        vertical-align: middle;\n",
       "    }\n",
       "\n",
       "    .dataframe tbody tr th {\n",
       "        vertical-align: top;\n",
       "    }\n",
       "\n",
       "    .dataframe thead th {\n",
       "        text-align: right;\n",
       "    }\n",
       "</style>\n",
       "<table border=\"1\" class=\"dataframe\">\n",
       "  <thead>\n",
       "    <tr style=\"text-align: right;\">\n",
       "      <th></th>\n",
       "      <th>url</th>\n",
       "      <th>product_id</th>\n",
       "      <th>category</th>\n",
       "    </tr>\n",
       "  </thead>\n",
       "  <tbody>\n",
       "    <tr>\n",
       "      <th>0</th>\n",
       "      <td>https://www.amazon.sa/-/en/Fishing-Game-Fishes...</td>\n",
       "      <td>B091NYZTCH</td>\n",
       "      <td>{'name': 'sports-goods', 'url': 'https://www.a...</td>\n",
       "    </tr>\n",
       "    <tr>\n",
       "      <th>1</th>\n",
       "      <td>https://www.amazon.sa/-/en/Rovyfota-Upgraded-B...</td>\n",
       "      <td>B0B2JB2FTR</td>\n",
       "      <td>{'name': 'sports-goods', 'url': 'https://www.a...</td>\n",
       "    </tr>\n",
       "    <tr>\n",
       "      <th>2</th>\n",
       "      <td>https://www.amazon.sa/-/en/Hook-Loop-Suspender...</td>\n",
       "      <td>B07D2D19NP</td>\n",
       "      <td>{'name': 'sports-goods', 'url': 'https://www.a...</td>\n",
       "    </tr>\n",
       "    <tr>\n",
       "      <th>3</th>\n",
       "      <td>https://www.amazon.sa/-/en/Electric-Fishing-Li...</td>\n",
       "      <td>B099Z9FSZT</td>\n",
       "      <td>{'name': 'sports-goods', 'url': 'https://www.a...</td>\n",
       "    </tr>\n",
       "    <tr>\n",
       "      <th>4</th>\n",
       "      <td>https://www.amazon.sa/-/en/Strong-Durable-Brea...</td>\n",
       "      <td>B07MX7ZKDJ</td>\n",
       "      <td>{'name': 'sports-goods', 'url': 'https://www.a...</td>\n",
       "    </tr>\n",
       "  </tbody>\n",
       "</table>\n",
       "</div>"
      ],
      "text/plain": [
       "                                                 url  product_id  \\\n",
       "0  https://www.amazon.sa/-/en/Fishing-Game-Fishes...  B091NYZTCH   \n",
       "1  https://www.amazon.sa/-/en/Rovyfota-Upgraded-B...  B0B2JB2FTR   \n",
       "2  https://www.amazon.sa/-/en/Hook-Loop-Suspender...  B07D2D19NP   \n",
       "3  https://www.amazon.sa/-/en/Electric-Fishing-Li...  B099Z9FSZT   \n",
       "4  https://www.amazon.sa/-/en/Strong-Durable-Brea...  B07MX7ZKDJ   \n",
       "\n",
       "                                            category  \n",
       "0  {'name': 'sports-goods', 'url': 'https://www.a...  \n",
       "1  {'name': 'sports-goods', 'url': 'https://www.a...  \n",
       "2  {'name': 'sports-goods', 'url': 'https://www.a...  \n",
       "3  {'name': 'sports-goods', 'url': 'https://www.a...  \n",
       "4  {'name': 'sports-goods', 'url': 'https://www.a...  "
      ]
     },
     "execution_count": 14,
     "metadata": {},
     "output_type": "execute_result"
    }
   ],
   "source": [
    "df = pd.read_csv(product_category_links_output)\n",
    "df.head()"
   ]
  },
  {
   "cell_type": "code",
   "execution_count": 15,
   "id": "1f396901",
   "metadata": {},
   "outputs": [
    {
     "data": {
      "text/plain": [
       "(88, 3)"
      ]
     },
     "execution_count": 15,
     "metadata": {},
     "output_type": "execute_result"
    }
   ],
   "source": [
    "df.shape"
   ]
  },
  {
   "cell_type": "code",
   "execution_count": 16,
   "id": "cf95ab9c",
   "metadata": {},
   "outputs": [],
   "source": [
    "df_sub = df.copy() # df.head(n=10)\n",
    "df_sub = df_sub.apply(row_scrape_event, axis=1)"
   ]
  },
  {
   "cell_type": "code",
   "execution_count": 17,
   "id": "2b7543d7",
   "metadata": {},
   "outputs": [],
   "source": [
    "df.to_csv(product_output, index=False)"
   ]
  },
  {
   "cell_type": "code",
   "execution_count": 18,
   "id": "319527ff",
   "metadata": {},
   "outputs": [],
   "source": [
    "products_df = pd.read_csv(product_output)\n",
    "# products_df.head()"
   ]
  },
  {
   "cell_type": "code",
   "execution_count": 19,
   "id": "afcce33b",
   "metadata": {},
   "outputs": [],
   "source": [
    "final_df = pd.concat([products_df, df_sub])\n",
    "final_df.to_csv(product_output, index=False)"
   ]
  },
  {
   "cell_type": "code",
   "execution_count": 22,
   "id": "25d47d06",
   "metadata": {},
   "outputs": [
    {
     "data": {
      "text/html": [
       "<div>\n",
       "<style scoped>\n",
       "    .dataframe tbody tr th:only-of-type {\n",
       "        vertical-align: middle;\n",
       "    }\n",
       "\n",
       "    .dataframe tbody tr th {\n",
       "        vertical-align: top;\n",
       "    }\n",
       "\n",
       "    .dataframe thead th {\n",
       "        text-align: right;\n",
       "    }\n",
       "</style>\n",
       "<table border=\"1\" class=\"dataframe\">\n",
       "  <thead>\n",
       "    <tr style=\"text-align: right;\">\n",
       "      <th></th>\n",
       "      <th>url</th>\n",
       "      <th>product_id</th>\n",
       "      <th>category</th>\n",
       "      <th>title</th>\n",
       "      <th>price</th>\n",
       "      <th>scraped</th>\n",
       "      <th>timestamp</th>\n",
       "    </tr>\n",
       "  </thead>\n",
       "  <tbody>\n",
       "    <tr>\n",
       "      <th>83</th>\n",
       "      <td>https://www.amazon.sa/-/en/Fancy-Feast-Purina-...</td>\n",
       "      <td>B07KX45BNN</td>\n",
       "      <td>{'name': 'pet-supplies', 'url': 'https://www.a...</td>\n",
       "      <td>Fancy Feast Purina Puree Kiss Tuna Puree with ...</td>\n",
       "      <td>SAR10.14</td>\n",
       "      <td>1.0</td>\n",
       "      <td>1.671402e+09</td>\n",
       "    </tr>\n",
       "    <tr>\n",
       "      <th>84</th>\n",
       "      <td>https://www.amazon.sa/-/en/Thomas-Cat-Litter-N...</td>\n",
       "      <td>B0037XNXIS</td>\n",
       "      <td>{'name': 'pet-supplies', 'url': 'https://www.a...</td>\n",
       "      <td>Thomas Cat Litter Non Clumping - 16 L</td>\n",
       "      <td>SAR61.25</td>\n",
       "      <td>1.0</td>\n",
       "      <td>1.671402e+09</td>\n",
       "    </tr>\n",
       "    <tr>\n",
       "      <th>85</th>\n",
       "      <td>https://www.amazon.sa/-/en/Felix-Naturally-Del...</td>\n",
       "      <td>B08YNJWQXB</td>\n",
       "      <td>{'name': 'pet-supplies', 'url': 'https://www.a...</td>\n",
       "      <td>Felix Purina Naturally Delicious Countryside S...</td>\n",
       "      <td>SAR38.00</td>\n",
       "      <td>1.0</td>\n",
       "      <td>1.671402e+09</td>\n",
       "    </tr>\n",
       "    <tr>\n",
       "      <th>86</th>\n",
       "      <td>https://www.amazon.sa/-/en/Brit-Premium-Nature...</td>\n",
       "      <td>B099F27PRZ</td>\n",
       "      <td>{'name': 'pet-supplies', 'url': 'https://www.a...</td>\n",
       "      <td>Brit Premium by Nature Cat Sticks with Salmon ...</td>\n",
       "      <td>SAR6.00</td>\n",
       "      <td>1.0</td>\n",
       "      <td>1.671402e+09</td>\n",
       "    </tr>\n",
       "    <tr>\n",
       "      <th>87</th>\n",
       "      <td>https://www.amazon.sa/-/en/Kitekat-Mackerel-Dr...</td>\n",
       "      <td>B076GMVVXM</td>\n",
       "      <td>{'name': 'pet-supplies', 'url': 'https://www.a...</td>\n",
       "      <td>Kitekat Mackerel, Dry Cat Food, 7Kg</td>\n",
       "      <td>SAR128.95</td>\n",
       "      <td>1.0</td>\n",
       "      <td>1.671402e+09</td>\n",
       "    </tr>\n",
       "  </tbody>\n",
       "</table>\n",
       "</div>"
      ],
      "text/plain": [
       "                                                  url  product_id  \\\n",
       "83  https://www.amazon.sa/-/en/Fancy-Feast-Purina-...  B07KX45BNN   \n",
       "84  https://www.amazon.sa/-/en/Thomas-Cat-Litter-N...  B0037XNXIS   \n",
       "85  https://www.amazon.sa/-/en/Felix-Naturally-Del...  B08YNJWQXB   \n",
       "86  https://www.amazon.sa/-/en/Brit-Premium-Nature...  B099F27PRZ   \n",
       "87  https://www.amazon.sa/-/en/Kitekat-Mackerel-Dr...  B076GMVVXM   \n",
       "\n",
       "                                             category  \\\n",
       "83  {'name': 'pet-supplies', 'url': 'https://www.a...   \n",
       "84  {'name': 'pet-supplies', 'url': 'https://www.a...   \n",
       "85  {'name': 'pet-supplies', 'url': 'https://www.a...   \n",
       "86  {'name': 'pet-supplies', 'url': 'https://www.a...   \n",
       "87  {'name': 'pet-supplies', 'url': 'https://www.a...   \n",
       "\n",
       "                                                title      price  scraped  \\\n",
       "83  Fancy Feast Purina Puree Kiss Tuna Puree with ...   SAR10.14      1.0   \n",
       "84              Thomas Cat Litter Non Clumping - 16 L   SAR61.25      1.0   \n",
       "85  Felix Purina Naturally Delicious Countryside S...   SAR38.00      1.0   \n",
       "86  Brit Premium by Nature Cat Sticks with Salmon ...    SAR6.00      1.0   \n",
       "87                Kitekat Mackerel, Dry Cat Food, 7Kg  SAR128.95      1.0   \n",
       "\n",
       "       timestamp  \n",
       "83  1.671402e+09  \n",
       "84  1.671402e+09  \n",
       "85  1.671402e+09  \n",
       "86  1.671402e+09  \n",
       "87  1.671402e+09  "
      ]
     },
     "execution_count": 22,
     "metadata": {},
     "output_type": "execute_result"
    }
   ],
   "source": [
    "final_df.tail()"
   ]
  },
  {
   "cell_type": "code",
   "execution_count": null,
   "id": "45520daa",
   "metadata": {},
   "outputs": [],
   "source": []
  }
 ],
 "metadata": {
  "kernelspec": {
   "display_name": "Day18-8Fegi_Zs",
   "language": "python",
   "name": "python3"
  },
  "language_info": {
   "codemirror_mode": {
    "name": "ipython",
    "version": 3
   },
   "file_extension": ".py",
   "mimetype": "text/x-python",
   "name": "python",
   "nbconvert_exporter": "python",
   "pygments_lexer": "ipython3",
   "version": "3.10.8"
  },
  "vscode": {
   "interpreter": {
    "hash": "32ea8812d6cf28eede50869cf1acc22bc7f708f0a00a2f4e0d990f8005b333f5"
   }
  }
 },
 "nbformat": 4,
 "nbformat_minor": 5
}
