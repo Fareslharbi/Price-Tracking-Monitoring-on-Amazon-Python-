{
 "cells": [
  {
   "cell_type": "code",
   "execution_count": 1,
   "id": "a343ddf7",
   "metadata": {},
   "outputs": [],
   "source": [
    "import requests\n",
    "from requests_html import HTML\n",
    "from selenium import webdriver\n",
    "from selenium.webdriver.chrome.options import Options\n",
    "from selenium.webdriver.common.by import By\n",
    "import re\n",
    "import time"
   ]
  },
  {
   "cell_type": "code",
   "execution_count": 2,
   "id": "88719e6b",
   "metadata": {},
   "outputs": [],
   "source": [
    "options = Options()\n",
    "options.add_argument(\"--headless\")\n",
    "\n",
    "driver = webdriver.Chrome(options=options)"
   ]
  },
  {
   "cell_type": "code",
   "execution_count": 3,
   "id": "914d2551",
   "metadata": {},
   "outputs": [],
   "source": [
    "categories = ['https://www.amazon.sa/-/en/gp/bestsellers/sports-goods/17007473031/', \n",
    "             'https://www.amazon.sa/-/en/gp/bestsellers/electronics/',\n",
    "             'https://www.amazon.sa/-/en/gp/bestsellers/pet-supplies/'\n",
    "             ]"
   ]
  },
  {
   "cell_type": "code",
   "execution_count": 4,
   "id": "0d51aeb6",
   "metadata": {},
   "outputs": [],
   "source": [
    "# categories"
   ]
  },
  {
   "cell_type": "code",
   "execution_count": 5,
   "id": "d5923f68",
   "metadata": {},
   "outputs": [],
   "source": [
    "first_url = categories[0]"
   ]
  },
  {
   "cell_type": "code",
   "execution_count": 6,
   "id": "9c31fa62",
   "metadata": {},
   "outputs": [],
   "source": [
    "driver.get(first_url)\n",
    "body_el = driver.find_element(By.CSS_SELECTOR, 'body')\n",
    "html_str = body_el.get_attribute(\"innerHTML\")\n",
    "html_obj = HTML(html=html_str)"
   ]
  },
  {
   "cell_type": "code",
   "execution_count": 7,
   "id": "e20a828e",
   "metadata": {},
   "outputs": [],
   "source": [
    "page_links = [f\"https://www.amazon.sa{x}\" for x in html_obj.links if x.startswith(\"/\")]\n",
    "# new_links = [x for x in new_links if \"product-reviews/\" not in x]"
   ]
  },
  {
   "cell_type": "code",
   "execution_count": 8,
   "id": "70254416",
   "metadata": {},
   "outputs": [],
   "source": [
    "# page_links"
   ]
  },
  {
   "cell_type": "code",
   "execution_count": 9,
   "id": "c0307bc1",
   "metadata": {},
   "outputs": [],
   "source": [
    "def scrape_product_page(url, title_lookup='#productTitle', \n",
    "price_lookup='.a-offscreen'):\n",
    "    driver.get(url)\n",
    "    time.sleep(0.5)\n",
    "    body_el = driver.find_element(By.CSS_SELECTOR, 'body')\n",
    "    html_str = body_el.get_attribute(\"innerHTML\")\n",
    "    html_obj = HTML(html=html_str)\n",
    "    product_title = html_obj.find(title_lookup, first=True).text\n",
    "    product_price = html_obj.find(price_lookup, first=True).text\n",
    "    return product_title, product_price"
   ]
  },
  {
   "cell_type": "code",
   "execution_count": 10,
   "id": "f82966cf",
   "metadata": {},
   "outputs": [],
   "source": [
    "# https://www.amazon.sa/-/en/GEVICONT-Performance-Salt-Water-Resistant-Superline/dp/B07GW3LX9Z/\n",
    "# https://www.amazon.sa/-/en/Rovyfota-Upgraded-Beginner-Practice-Accessories/dp/B0B2JB2FTR/\n",
    "\n",
    "# Below is how most urls are designed\n",
    "# <base-url>/<slug>/<product-id>/"
   ]
  },
  {
   "cell_type": "code",
   "execution_count": 11,
   "id": "2bfcc72a",
   "metadata": {},
   "outputs": [],
   "source": [
    "# my_regex_pattern = r'https://www.amazon.sa/(?P<slug>[\\w-]+)/dp/(?P<product_id>[\\w-]+)/'\n",
    "# my_url = 'https://www.amazon.sa/Rovyfota-Upgraded-Beginner-Practice-Accessories/dp/B0B2JB2FTR/'"
   ]
  },
  {
   "cell_type": "code",
   "execution_count": 12,
   "id": "89dd954b",
   "metadata": {},
   "outputs": [],
   "source": [
    "# regex = re.compile(my_regex_pattern)"
   ]
  },
  {
   "cell_type": "code",
   "execution_count": 13,
   "id": "d46ddba3",
   "metadata": {},
   "outputs": [],
   "source": [
    "# my_match = regex.match(my_url)\n",
    "# print(my_match)\n",
    "# print(my_match['slug'])\n",
    "# print(my_match['product_id'])"
   ]
  },
  {
   "cell_type": "code",
   "execution_count": 14,
   "id": "ec641810",
   "metadata": {},
   "outputs": [],
   "source": [
    "regex_options = [\n",
    "    r'https://www.amazon.sa/-/en/gp/product/(?P<product_id>[\\w-]+)/',\n",
    "    r'https://www.amazon.sa/-/en/dp/(?P<product_id>[\\w-]+)/',\n",
    "    r'https://www.amazon.sa/-/en/(?P<slug>[\\w-]+)/dp/(?P<product_id>[\\w-]+)/',\n",
    "]\n",
    "\n",
    "def extract_product_id_from_url(url):\n",
    "    product_id = None\n",
    "    for regex_str in regex_options:\n",
    "        regex = re.compile(regex_str)\n",
    "        match = regex.match(url)\n",
    "        if match != None:\n",
    "            try:\n",
    "                product_id = match['product_id']\n",
    "            except:\n",
    "                pass\n",
    "    return product_id"
   ]
  },
  {
   "cell_type": "code",
   "execution_count": 15,
   "id": "a71b4029",
   "metadata": {},
   "outputs": [],
   "source": [
    "\n",
    "# page_links = [x for x in page_links if extract_product_id_from_url(x) !=None]\n",
    "def clean_page_links(page_links=[]):\n",
    "    final_page_links = []\n",
    "    for url in page_links:\n",
    "        product_id = extract_product_id_from_url(url)\n",
    "        if product_id !=None:\n",
    "            final_page_links.append({\"url\": url, \"product_id\":product_id})\n",
    "    return final_page_links\n",
    "\n",
    "cleaned_links = clean_page_links(page_links)"
   ]
  },
  {
   "cell_type": "code",
   "execution_count": 16,
   "id": "0997d133",
   "metadata": {},
   "outputs": [
    {
     "data": {
      "text/plain": [
       "118"
      ]
     },
     "execution_count": 16,
     "metadata": {},
     "output_type": "execute_result"
    }
   ],
   "source": [
    "len(page_links) # == len(cleaned_links)\n"
   ]
  },
  {
   "cell_type": "code",
   "execution_count": 17,
   "id": "36098863",
   "metadata": {},
   "outputs": [
    {
     "data": {
      "text/plain": [
       "30"
      ]
     },
     "execution_count": 17,
     "metadata": {},
     "output_type": "execute_result"
    }
   ],
   "source": [
    "len(cleaned_links)"
   ]
  },
  {
   "cell_type": "code",
   "execution_count": 18,
   "id": "55e5bd22",
   "metadata": {},
   "outputs": [],
   "source": [
    "def perform_scrape(cleaned_items=[]): \n",
    "    data_extracted = []\n",
    "    for obj in cleaned_items:\n",
    "        link = obj['url']\n",
    "        product_id = obj['product_id']\n",
    "        title, price = (None, None)\n",
    "        try:\n",
    "            title, price = scrape_product_page(link)\n",
    "        except:\n",
    "            pass\n",
    "        if title != None and price !=None:\n",
    "            print(link, title, price)\n",
    "        product_data = {\n",
    "            \"url\": link,\n",
    "            \"title\": title,\n",
    "            \"price\": price\n",
    "        }\n",
    "        data_extracted.append(product_data)\n",
    "    return data_extracted"
   ]
  },
  {
   "cell_type": "code",
   "execution_count": 19,
   "id": "1577e088",
   "metadata": {},
   "outputs": [
    {
     "name": "stdout",
     "output_type": "stream",
     "text": [
      "https://www.amazon.sa/-/en/SCIENISH-Glow-Fishing-Lure-Bait/dp/B09C53FCTZ/ref=zg_bs_17007473031_sccl_4/260-8022584-3068325?psc=1 SCIENISH Glow Fishing Lure Bait Kit - 5pcs Luminous Fishing Bait VIB Popper Crank Minnow Pencil Artificial Lures with Tackle Box SAR25.00\n",
      "https://www.amazon.sa/-/en/Fishing-Saltwater-Sabiki-Trolling-Herring/dp/B09V5S6QHB/ref=zg_bs_17007473031_sccl_8/260-8022584-3068325?psc=1 Sea Fishing Saltwater Sabiki Hook Rigs Blue Tube Tuna Lures Trolling Fishing Herring Bait Jig soft lure Pesca Sabiki lure SAR21.99\n",
      "https://www.amazon.sa/-/en/MUSTAD-fishing-circle-carbon-Jigging/dp/B075N5TNB6/ref=zg_bs_17007473031_sccl_14/260-8022584-3068325?psc=1 MUSTAD 39951 fishing hooks demon circle high carbon steel Jigging Hook SAR23.99\n",
      "https://www.amazon.sa/-/en/10-Holes-Fishing-Trap-Automatic/dp/B09V2T67TN/ref=zg_bs_17007473031_sccl_18/260-8022584-3068325?psc=1 10 Holes Fishing Trap - Eacam Portable 4/6/10 Holes Automatic Fishing Trap Net Shrimp Crab Mesh Trap Cage SAR37.99\n",
      "https://www.amazon.sa/-/en/Flying-Colors-Premium-000ct-Bottle/dp/B000RF8L3Q/ref=zg_bs_17007473031_sccl_27/260-8022584-3068325?psc=1 Soft Air 6mm Flying Colors Premium Grade .12g BB (2,000ct. Bottle, Orange) SAR41.00\n",
      "https://www.amazon.sa/-/en/Oversize-Slouch-Beanie-Skullcap-Checked-claret/dp/B074S22VYX/ref=zg_bs_17007473031_sccl_24/260-8022584-3068325?psc=1 Men Oversize Skull Slouch Beanie Large Skullcap Knit Hat SAR75.27\n",
      "https://www.amazon.sa/-/en/BAIKALBASS-Braided-Fishing-Multifilament-Saltwater/dp/B076CPKHBM/ref=zg_bs_17007473031_sccl_12/260-8022584-3068325?psc=1 BAIKALBASS Braided Fishing Line 4 Strands Stronger Multifilament PE Braid Wire for Saltwater 6LB-100LB 110yards 328yards 547yards Super Strong Superline SAR57.67\n",
      "https://www.amazon.sa/-/en/Rovyfota-Upgraded-Beginner-Practice-Accessories/dp/B0B2JB2FTR/ref=zg_bs_17007473031_sccl_2/260-8022584-3068325?psc=1 Rovyfota Kids Bow and Arrow Set, Upgraded Youth Bow and Arrow, Kids and Beginner Bow Practice Bow, With 6 Arrows and Accessories For Outdoor Practice Bow and Arrow Set, Sports/Game/Hunting Gifts SAR199.00\n",
      "https://www.amazon.sa/-/en/Upgraded-Fishing-Luminous-Freshwater-Saltwater/dp/B0B8YWWBL3/ref=zg_bs_17007473031_sccl_7/260-8022584-3068325?psc=1 [Upgraded]10 Pcs Fishing Lures, Soft Luminous Shrimp Lures Set, Shrimp Bait Set with Sharp Hooks, Fishing Tackle for Freshwater and Saltwater Bass Trout Catfish SAR46.80\n",
      "https://www.amazon.sa/-/en/Illuminated-Trial-Adjustable-Trail-Frame/dp/B09ZYK1GK9/ref=zg_bs_17007473031_sccl_9/260-8022584-3068325?psc=1 Span Care Illuminated Trial Lens Set with 225 Lens & Adjustable Trail Frame SAR655.35\n",
      "https://www.amazon.sa/-/en/GEVICONT-Performance-Salt-Water-Resistant-Superline/dp/B07GW3LX9Z/ref=zg_bs_17007473031_sccl_15/260-8022584-3068325?psc=1 GEVICONT Superpower Braided Fishing Line - Abrasion Resistant Braided Lines – Incredible Superline – Zero Stretch – Smaller Diameter – A Must-Have! SAR48.54\n"
     ]
    }
   ],
   "source": [
    "extracted_data = perform_scrape(cleaned_items=cleaned_links)"
   ]
  },
  {
   "cell_type": "code",
   "execution_count": 20,
   "id": "e7214408",
   "metadata": {},
   "outputs": [
    {
     "name": "stdout",
     "output_type": "stream",
     "text": [
      "[{'url': 'https://www.amazon.sa/-/en/Glasses-Tactical-Military-Shooting-Protective/dp/B07M83Y496/ref=zg_bs_17007473031_sccl_13/260-8022584-3068325?psc=1', 'title': None, 'price': None}, {'url': 'https://www.amazon.sa/-/en/Travel-Spinning-Fishing-Rod-Lightweight/dp/B09SHP8WKN/ref=zg_bs_17007473031_sccl_6/260-8022584-3068325?psc=1', 'title': None, 'price': None}, {'url': 'https://www.amazon.sa/-/en/Labymos-Equipped-Resistant-Air-conditioning-Electric/dp/B0BLHCBTY2/ref=zg_bs_17007473031_sccl_16/260-8022584-3068325?psc=1', 'title': None, 'price': None}, {'url': 'https://www.amazon.sa/-/en/Guoqunshop-Fishing-Multi-Pocket-Cotton-Waistcoat/dp/B089SGPGSY/ref=zg_bs_17007473031_sccl_17/260-8022584-3068325?psc=1', 'title': None, 'price': None}, {'url': 'https://www.amazon.sa/-/en/Fishing-Spinning-Powerful-Saltwater-Freshwater/dp/B077GMG73W/ref=zg_bs_17007473031_sccl_26/260-8022584-3068325?psc=1', 'title': None, 'price': None}, {'url': 'https://www.amazon.sa/-/en/Military-Tactical-Backpack-Createy-Assault/dp/B08JK78HTV/ref=zg_bs_17007473031_sccl_1/260-8022584-3068325?psc=1', 'title': None, 'price': None}, {'url': 'https://www.amazon.sa/-/en/Propper-F545455-Mens-Woodland-Large-Short/dp/B000IT4XOM/ref=zg_bs_17007473031_sccl_29/260-8022584-3068325?psc=1', 'title': None, 'price': None}, {'url': 'https://www.amazon.sa/-/en/SCIENISH-Glow-Fishing-Lure-Bait/dp/B09C53FCTZ/ref=zg_bs_17007473031_sccl_4/260-8022584-3068325?psc=1', 'title': 'SCIENISH Glow Fishing Lure Bait Kit - 5pcs Luminous Fishing Bait VIB Popper Crank Minnow Pencil Artificial Lures with Tackle Box', 'price': 'SAR25.00'}, {'url': 'https://www.amazon.sa/-/en/Fishing-Saltwater-Sabiki-Trolling-Herring/dp/B09V5S6QHB/ref=zg_bs_17007473031_sccl_8/260-8022584-3068325?psc=1', 'title': 'Sea Fishing Saltwater Sabiki Hook Rigs Blue Tube Tuna Lures Trolling Fishing Herring Bait Jig soft lure Pesca Sabiki lure', 'price': 'SAR21.99'}, {'url': 'https://www.amazon.sa/-/en/Portable-Stretcher-Emergency-Foldable-Transfer/dp/B08G11T2CK/ref=zg_bs_17007473031_sccl_19/260-8022584-3068325?psc=1', 'title': None, 'price': None}, {'url': 'https://www.amazon.sa/-/en/KASTWAVE-Fishing-Stainless-Saltwater-Freshwater/dp/B09377NH99/ref=zg_bs_17007473031_sccl_5/260-8022584-3068325?psc=1', 'title': None, 'price': None}, {'url': 'https://www.amazon.sa/-/en/Collapsible-Folding-Landing-Net-Telescopic/dp/B0B7R6FZYL/ref=zg_bs_17007473031_sccl_22/260-8022584-3068325?psc=1', 'title': None, 'price': None}, {'url': 'https://www.amazon.sa/-/en/M-Tac-Fleece-Watch-Cap-Military/dp/B076NZWWYZ/ref=zg_bs_17007473031_sccl_28/260-8022584-3068325?psc=1', 'title': None, 'price': None}, {'url': 'https://www.amazon.sa/-/en/MUSTAD-fishing-circle-carbon-Jigging/dp/B075N5TNB6/ref=zg_bs_17007473031_sccl_14/260-8022584-3068325?psc=1', 'title': 'MUSTAD 39951 fishing hooks demon circle high carbon steel Jigging Hook', 'price': 'SAR23.99'}, {'url': 'https://www.amazon.sa/-/en/10-Holes-Fishing-Trap-Automatic/dp/B09V2T67TN/ref=zg_bs_17007473031_sccl_18/260-8022584-3068325?psc=1', 'title': '10 Holes Fishing Trap - Eacam Portable 4/6/10 Holes Automatic Fishing Trap Net Shrimp Crab Mesh Trap Cage', 'price': 'SAR37.99'}, {'url': 'https://www.amazon.sa/-/en/DOSTYLE-Traditional-Shooting-Coloured-Practice/dp/B07JVFSNG6/ref=zg_bs_17007473031_sccl_10/260-8022584-3068325?psc=1', 'title': None, 'price': None}, {'url': 'https://www.amazon.sa/-/en/Flying-Colors-Premium-000ct-Bottle/dp/B000RF8L3Q/ref=zg_bs_17007473031_sccl_27/260-8022584-3068325?psc=1', 'title': 'Soft Air 6mm Flying Colors Premium Grade .12g BB (2,000ct. Bottle, Orange)', 'price': 'SAR41.00'}, {'url': 'https://www.amazon.sa/-/en/Lixada-Fishing-Telescopic-Travel-Accessories/dp/B07V2KS8D6/ref=zg_bs_17007473031_sccl_23/260-8022584-3068325?psc=1', 'title': None, 'price': None}, {'url': 'https://www.amazon.sa/-/en/BOKER-PLUS-Multi-Purpose-Black/dp/B00DXFABX0/ref=zg_bs_17007473031_sccl_25/260-8022584-3068325?psc=1', 'title': None, 'price': None}, {'url': 'https://www.amazon.sa/-/en/Oversize-Slouch-Beanie-Skullcap-Checked-claret/dp/B074S22VYX/ref=zg_bs_17007473031_sccl_24/260-8022584-3068325?psc=1', 'title': 'Men Oversize Skull Slouch Beanie Large Skullcap Knit Hat', 'price': 'SAR75.27'}, {'url': 'https://www.amazon.sa/-/en/HEAROS-Xtreme-Ear-plugs-Cancelling/dp/B000NP79YM/ref=zg_bs_17007473031_sccl_3/260-8022584-3068325?psc=1', 'title': None, 'price': None}, {'url': 'https://www.amazon.sa/-/en/BAIKALBASS-Braided-Fishing-Multifilament-Saltwater/dp/B076CPKHBM/ref=zg_bs_17007473031_sccl_12/260-8022584-3068325?psc=1', 'title': 'BAIKALBASS Braided Fishing Line 4 Strands Stronger Multifilament PE Braid Wire for Saltwater 6LB-100LB 110yards 328yards 547yards Super Strong Superline', 'price': 'SAR57.67'}, {'url': 'https://www.amazon.sa/-/en/PENN-Rival-Longcast-Fishing-Reel/dp/B08M3DXJY2/ref=zg_bs_17007473031_sccl_20/260-8022584-3068325?psc=1', 'title': None, 'price': None}, {'url': 'https://www.amazon.sa/-/en/1000m-strong-multifilament-braided-fishing/dp/B07MJXQTWB/ref=zg_bs_17007473031_sccl_11/260-8022584-3068325?psc=1', 'title': None, 'price': None}, {'url': 'https://www.amazon.sa/-/en/Rovyfota-Upgraded-Beginner-Practice-Accessories/dp/B0B2JB2FTR/ref=zg_bs_17007473031_sccl_2/260-8022584-3068325?psc=1', 'title': 'Rovyfota Kids Bow and Arrow Set, Upgraded Youth Bow and Arrow, Kids and Beginner Bow Practice Bow, With 6 Arrows and Accessories For Outdoor Practice Bow and Arrow Set, Sports/Game/Hunting Gifts', 'price': 'SAR199.00'}, {'url': 'https://www.amazon.sa/-/en/Upgraded-Fishing-Luminous-Freshwater-Saltwater/dp/B0B8YWWBL3/ref=zg_bs_17007473031_sccl_7/260-8022584-3068325?psc=1', 'title': '[Upgraded]10 Pcs Fishing Lures, Soft Luminous Shrimp Lures Set, Shrimp Bait Set with Sharp Hooks, Fishing Tackle for Freshwater and Saltwater Bass Trout Catfish', 'price': 'SAR46.80'}, {'url': 'https://www.amazon.sa/-/en/Illuminated-Trial-Adjustable-Trail-Frame/dp/B09ZYK1GK9/ref=zg_bs_17007473031_sccl_9/260-8022584-3068325?psc=1', 'title': 'Span Care Illuminated Trial Lens Set with 225 Lens & Adjustable Trail Frame', 'price': 'SAR655.35'}, {'url': 'https://www.amazon.sa/-/en/Melesh-Unisex-Classic-Buckle-Fedora/dp/B08LKCMZ8X/ref=zg_bs_17007473031_sccl_21/260-8022584-3068325?psc=1', 'title': None, 'price': None}, {'url': 'https://www.amazon.sa/-/en/Generic-All-Gun-Cleaning-Bag/dp/B0BGYZHVHT/ref=zg_bs_17007473031_sccl_30/260-8022584-3068325?psc=1', 'title': None, 'price': None}, {'url': 'https://www.amazon.sa/-/en/GEVICONT-Performance-Salt-Water-Resistant-Superline/dp/B07GW3LX9Z/ref=zg_bs_17007473031_sccl_15/260-8022584-3068325?psc=1', 'title': 'GEVICONT Superpower Braided Fishing Line - Abrasion Resistant Braided Lines – Incredible Superline – Zero Stretch – Smaller Diameter – A Must-Have!', 'price': 'SAR48.54'}]\n"
     ]
    }
   ],
   "source": [
    "print(extracted_data)"
   ]
  },
  {
   "cell_type": "code",
   "execution_count": null,
   "id": "cf95ab9c",
   "metadata": {},
   "outputs": [],
   "source": []
  }
 ],
 "metadata": {
  "kernelspec": {
   "display_name": "Python 3 (ipykernel)",
   "language": "python",
   "name": "python3"
  },
  "language_info": {
   "codemirror_mode": {
    "name": "ipython",
    "version": 3
   },
   "file_extension": ".py",
   "mimetype": "text/x-python",
   "name": "python",
   "nbconvert_exporter": "python",
   "pygments_lexer": "ipython3",
   "version": "3.10.8"
  }
 },
 "nbformat": 4,
 "nbformat_minor": 5
}
