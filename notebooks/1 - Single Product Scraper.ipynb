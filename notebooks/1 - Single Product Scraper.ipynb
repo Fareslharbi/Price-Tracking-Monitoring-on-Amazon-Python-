{
 "cells": [
  {
   "cell_type": "code",
   "execution_count": 25,
   "id": "a343ddf7",
   "metadata": {},
   "outputs": [],
   "source": [
    "import requests\n",
    "from requests_html import HTML\n",
    "from selenium import webdriver\n",
    "from selenium.webdriver.chrome.options import Options\n",
    "from selenium.webdriver.common.by import By"
   ]
  },
  {
   "cell_type": "code",
   "execution_count": 26,
   "id": "88719e6b",
   "metadata": {},
   "outputs": [],
   "source": [
    "options = Options()\n",
    "options.add_argument(\"--headless\")\n",
    "\n",
    "driver = webdriver.Chrome(options=options)"
   ]
  },
  {
   "cell_type": "code",
   "execution_count": 36,
   "id": "7bf8c06d",
   "metadata": {},
   "outputs": [],
   "source": [
    "url = 'https://www.amazon.sa/-/en/dp/B08439H74V/ref=s9_acsd_al_bw_c2_x_1_t?pf_rd_m=A2XPWB6MYN7ZDK&pf_rd_s=merchandised-search-3&pf_rd_r=15C664E2S72XKZY62CJ6&pf_rd_t=101&pf_rd_p=7a53e175-1337-4b33-852d-7fe73cee0851&pf_rd_i=17007484031'\n",
    "title_lookup = '#productTitle' # id=productTitle\n",
    "price_lookup = '.a-offscreen'# class=\"a-offscreen\""
   ]
  },
  {
   "cell_type": "code",
   "execution_count": 37,
   "id": "de15e24f",
   "metadata": {},
   "outputs": [],
   "source": [
    "# requests is not working \n",
    "# r = requests.get(url)\n",
    "# html_str = r.text"
   ]
  },
  {
   "cell_type": "code",
   "execution_count": 38,
   "id": "3e7fff0d",
   "metadata": {},
   "outputs": [],
   "source": [
    "#print(html_str)\n",
    "driver.get(url)\n",
    "body_el = driver.find_element(By.CSS_SELECTOR, \"body\")\n",
    "html_str = body_el.get_attribute(\"innerHTML\")\n",
    "#print(html_str)"
   ]
  },
  {
   "cell_type": "code",
   "execution_count": 39,
   "id": "c1200f50",
   "metadata": {},
   "outputs": [],
   "source": [
    "html_obj = HTML(html=html_str)"
   ]
  },
  {
   "cell_type": "code",
   "execution_count": 44,
   "id": "213ef955",
   "metadata": {},
   "outputs": [],
   "source": [
    "product_title = html_obj.find(title_lookup, first=True).text"
   ]
  },
  {
   "cell_type": "code",
   "execution_count": 45,
   "id": "a975ab6f",
   "metadata": {},
   "outputs": [],
   "source": [
    "product_price = html_obj.find(price_lookup, first=True).text"
   ]
  },
  {
   "cell_type": "code",
   "execution_count": 47,
   "id": "164b9bae",
   "metadata": {},
   "outputs": [
    {
     "name": "stdout",
     "output_type": "stream",
     "text": [
      "Exercise Bike and Body Shapers, 1303086 \n",
      " SAR599.03\n"
     ]
    }
   ],
   "source": [
    "print(product_title,\"\\n\",product_price)"
   ]
  },
  {
   "cell_type": "code",
   "execution_count": null,
   "id": "f431f5b8",
   "metadata": {},
   "outputs": [],
   "source": []
  }
 ],
 "metadata": {
  "kernelspec": {
   "display_name": "Python 3 (ipykernel)",
   "language": "python",
   "name": "python3"
  },
  "language_info": {
   "codemirror_mode": {
    "name": "ipython",
    "version": 3
   },
   "file_extension": ".py",
   "mimetype": "text/x-python",
   "name": "python",
   "nbconvert_exporter": "python",
   "pygments_lexer": "ipython3",
   "version": "3.10.8"
  }
 },
 "nbformat": 4,
 "nbformat_minor": 5
}
